{
 "cells": [
  {
   "cell_type": "code",
   "execution_count": 1,
   "metadata": {
    "collapsed": true
   },
   "outputs": [],
   "source": [
    "import pandas as pd\n",
    "import warnings\n",
    "from sksutils.sksutils import *\n",
    "warnings.filterwarnings('ignore')\n",
    "\n",
    "\n",
    "df = pd.read_pickle('skin_relevant_sentences_train.pkl')\n"
   ]
  },
  {
   "cell_type": "code",
   "execution_count": 301,
   "metadata": {
    "collapsed": true
   },
   "outputs": [],
   "source": [
    "for c in init_cats('concerns'):\n",
    "    df['{}_label'.format(c)] = np.nan\n",
    "    \n",
    "cols_lab = ['{}_label'.format(c) for c in init_cats('concerns')]"
   ]
  },
  {
   "cell_type": "code",
   "execution_count": 14,
   "metadata": {
    "collapsed": true,
    "scrolled": false
   },
   "outputs": [],
   "source": [
    "N = 500\n",
    "num = df[cols_lab].notna().sum().reset_index().rename(columns={0:'count'})\n",
    "\n",
    "for col in cols:\n",
    "    lname = '{}_label'.format(col)\n",
    "    n =N-num.loc[num['index']==lname,'count'].values\n",
    "    if n>0:\n",
    "        tmp = df[(df[col]) & (df[lname].isna())].iloc[0:n[0]].sample(n)\n",
    "        for idx,row in tmp.iterrows():\n",
    "            print('{}: {}'.format(idx,row['sent_process']))\n",
    "            for c in cols:\n",
    "                if row[c]:\n",
    "                    resp = input('{}: '.format(c))\n",
    "                    df['{}_label'.format(c)].iloc[idx] = int(resp)"
   ]
  },
  {
   "cell_type": "code",
   "execution_count": 13,
   "metadata": {
    "collapsed": true
   },
   "outputs": [],
   "source": [
    "df.to_pickle('skin_relevant_sentences_train.pkl')"
   ]
  }
 ],
 "metadata": {
  "kernelspec": {
   "display_name": "Python 3",
   "language": "python",
   "name": "python3"
  },
  "language_info": {
   "codemirror_mode": {
    "name": "ipython",
    "version": 3
   },
   "file_extension": ".py",
   "mimetype": "text/x-python",
   "name": "python",
   "nbconvert_exporter": "python",
   "pygments_lexer": "ipython3",
   "version": "3.6.1"
  }
 },
 "nbformat": 4,
 "nbformat_minor": 2
}
